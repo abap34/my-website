{
 "cells": [
  {
   "cell_type": "markdown",
   "metadata": {},
   "source": [
    "# JAXの乱数生成\n",
    "> JAXにおける乱数生成についてサンプルコードを交えて解説します。\n",
    "\n",
    "- toc: true \n",
    "- badges: true\n",
    "- comments: true\n",
    "- categories: [Python, JAX, DeepLearning]\n",
    "- image: images/jax-samune.png"
   ]
  },
  {
   "cell_type": "markdown",
   "metadata": {},
   "source": [
    "JAX流行ってますね。JAXについての詳しい説明は、[たくさんの記事](https://www.google.com/search?q=jax%E3%81%A8%E3%81%AF)や[https://github.com/google/jax](https://github.com/google/jax)　を参照していただくとして、JAXの乱数生成について勉強してみようと思います。"
   ]
  },
  {
   "cell_type": "markdown",
   "metadata": {},
   "source": [
    "# Numpyにおける乱数の再現性の確保\n",
    "さて、JAXはNumpyをとても意識して作られたライブラリですが、乱数周りに関しては大きく異なる点があります。\n",
    "まずは, Numpyの例を見てみます。"
   ]
  },
  {
   "cell_type": "code",
   "execution_count": 91,
   "metadata": {},
   "outputs": [],
   "source": [
    "import numpy as np"
   ]
  },
  {
   "cell_type": "code",
   "execution_count": 92,
   "metadata": {},
   "outputs": [
    {
     "name": "stdout",
     "output_type": "stream",
     "text": [
      "x: 0.26455561210462697\n"
     ]
    }
   ],
   "source": [
    "# numpy \n",
    "x = np.random.rand()\n",
    "print('x:', x)"
   ]
  },
  {
   "cell_type": "code",
   "execution_count": 93,
   "metadata": {},
   "outputs": [
    {
     "name": "stdout",
     "output_type": "stream",
     "text": [
      "x: 0.7742336894342167\n",
      "x: 0.45615033221654855\n",
      "x: 0.5684339488686485\n",
      "x: 0.018789800436355142\n",
      "x: 0.6176354970758771\n",
      "x: 0.6120957227224214\n",
      "x: 0.6169339968747569\n",
      "x: 0.9437480785146242\n",
      "x: 0.6818202991034834\n",
      "x: 0.359507900573786\n"
     ]
    }
   ],
   "source": [
    "for i in range(10):\n",
    "    x = np.random.rand()\n",
    "    print('x:', x)"
   ]
  },
  {
   "cell_type": "markdown",
   "metadata": {},
   "source": [
    "バラバラの結果が出てきました。これを固定するには、このようなコードを書きます。"
   ]
  },
  {
   "cell_type": "code",
   "execution_count": 94,
   "metadata": {},
   "outputs": [
    {
     "name": "stdout",
     "output_type": "stream",
     "text": [
      "x: 0.5488135039273248\n",
      "x: 0.5488135039273248\n",
      "x: 0.5488135039273248\n",
      "x: 0.5488135039273248\n",
      "x: 0.5488135039273248\n",
      "x: 0.5488135039273248\n",
      "x: 0.5488135039273248\n",
      "x: 0.5488135039273248\n",
      "x: 0.5488135039273248\n",
      "x: 0.5488135039273248\n"
     ]
    }
   ],
   "source": [
    "for i in range(10):\n",
    "    np.random.seed(0)\n",
    "    x = np.random.rand()\n",
    "    print('x:', x)"
   ]
  },
  {
   "cell_type": "markdown",
   "metadata": {},
   "source": [
    "ところでnumpyでは、`np.random.get_state()` で乱数生成器の状態が確認できます。"
   ]
  },
  {
   "cell_type": "code",
   "execution_count": 95,
   "metadata": {},
   "outputs": [
    {
     "name": "stdout",
     "output_type": "stream",
     "text": [
      "MT19937\n",
      "[ 0 1 1812433255 1900727105 1208447044 2481403966 4042607538 337614300 3232553940 1018809052 ...\n",
      "2906783932 3668048733 2030009470 1910839172 1234925283 3575831445 123595418 2362440495 3048484911 1796872496 ]\n"
     ]
    }
   ],
   "source": [
    "np.random.seed(0)\n",
    "state = np.random.get_state()\n",
    "print(state[0])\n",
    "print('[', *state[1][:10], '...')\n",
    "print(*state[1][-10:], ']')"
   ]
  },
  {
   "cell_type": "code",
   "execution_count": 96,
   "metadata": {},
   "outputs": [
    {
     "name": "stdout",
     "output_type": "stream",
     "text": [
      "MT19937\n",
      "[ 20040304 3876245041 2868517820 934780921 2883411521 496831348 4198668490 1502140500 1427494545 3747657433 ...\n",
      "744972032 1872723303 3654422950 1926579586 2599193113 3757568530 3621035041 2338180567 2885432439 2647019928 ]\n"
     ]
    }
   ],
   "source": [
    "np.random.seed(20040304)\n",
    "state = np.random.get_state()\n",
    "print(state[0])\n",
    "print('[', *state[1][:10], '...')\n",
    "print(*state[1][-10:], ']')"
   ]
  },
  {
   "cell_type": "markdown",
   "metadata": {},
   "source": [
    "逆に言えば、Numpyの乱数生成はグローバルな一つの状態に依存しています。このことは次のような弊害を生みます。"
   ]
  },
  {
   "cell_type": "markdown",
   "metadata": {},
   "source": [
    "# 並列実行と実行順序、再現性 \n",
    "簡単なゲームを作ってみます。　\n",
    "関数`a`, `b`が乱数を生成するので、大きい数を返した方が勝ちというゲームです。"
   ]
  },
  {
   "cell_type": "code",
   "execution_count": 97,
   "metadata": {},
   "outputs": [],
   "source": [
    "a = lambda : np.random.rand()\n",
    "b = lambda : np.random.rand()\n",
    "\n",
    "def battle():\n",
    "    if a() > b():\n",
    "        return 'A'\n",
    "    else:\n",
    "        return 'B'"
   ]
  },
  {
   "cell_type": "code",
   "execution_count": 98,
   "metadata": {},
   "outputs": [
    {
     "name": "stdout",
     "output_type": "stream",
     "text": [
      "winner is B !\n",
      "winner is A !\n",
      "winner is B !\n",
      "winner is A !\n",
      "winner is A !\n",
      "winner is A !\n",
      "winner is B !\n",
      "winner is B !\n",
      "winner is B !\n",
      "winner is A !\n"
     ]
    }
   ],
   "source": [
    "for i in range(10):\n",
    "    print('winner is',  battle(), '!')"
   ]
  },
  {
   "cell_type": "markdown",
   "metadata": {},
   "source": [
    "また実行すれば、結果は変化します。"
   ]
  },
  {
   "cell_type": "code",
   "execution_count": 99,
   "metadata": {},
   "outputs": [
    {
     "name": "stdout",
     "output_type": "stream",
     "text": [
      "winner is B !\n",
      "winner is A !\n",
      "winner is A !\n",
      "winner is B !\n",
      "winner is B !\n",
      "winner is B !\n",
      "winner is A !\n",
      "winner is A !\n",
      "winner is A !\n",
      "winner is B !\n"
     ]
    }
   ],
   "source": [
    "for i in range(10):\n",
    "    print('winner is',  battle(), '!')"
   ]
  },
  {
   "cell_type": "markdown",
   "metadata": {},
   "source": [
    "ではこの結果の再現性を持たせるにはどうすればいいでしょうか。簡単な例はこうなります。"
   ]
  },
  {
   "cell_type": "code",
   "execution_count": 100,
   "metadata": {},
   "outputs": [],
   "source": [
    "res1 = []\n",
    "np.random.seed(0)\n",
    "for i in range(10):\n",
    "    res1.append(battle())\n",
    "\n",
    "# もう一回\n",
    "\n",
    "res2 = []\n",
    "np.random.seed(0)\n",
    "for i in range(10):\n",
    "    res2.append(battle())"
   ]
  },
  {
   "cell_type": "code",
   "execution_count": 101,
   "metadata": {},
   "outputs": [
    {
     "name": "stdout",
     "output_type": "stream",
     "text": [
      "1 | 2\n",
      "=====\n",
      "B | B\n",
      "A | A\n",
      "B | B\n",
      "B | B\n",
      "A | A\n",
      "A | A\n",
      "B | B\n",
      "B | B\n",
      "B | B\n",
      "B | B\n"
     ]
    }
   ],
   "source": [
    "print('1 | 2')\n",
    "print('=====')\n",
    "for i in range(10):\n",
    "    print(res1[i], '|', res2[i])"
   ]
  },
  {
   "cell_type": "markdown",
   "metadata": {},
   "source": [
    "というわけで同じ結果が得られました。しかし、この結果には落とし穴があります。\n",
    "関数`battle`の動作をもう少し詳しく確認してみましょう。\n",
    "`a`と`b`が呼び出されるタイミングを確認してみます。"
   ]
  },
  {
   "cell_type": "code",
   "execution_count": 102,
   "metadata": {},
   "outputs": [],
   "source": [
    "def a():\n",
    "    print('a is called!')\n",
    "    return np.random.rand()\n",
    "\n",
    "def b():\n",
    "    print('b is called!')\n",
    "    return np.random.rand()"
   ]
  },
  {
   "cell_type": "code",
   "execution_count": 103,
   "metadata": {},
   "outputs": [
    {
     "name": "stdout",
     "output_type": "stream",
     "text": [
      "a is called!\n",
      "b is called!\n",
      "======\n",
      "a is called!\n",
      "b is called!\n",
      "======\n",
      "a is called!\n",
      "b is called!\n",
      "======\n",
      "a is called!\n",
      "b is called!\n",
      "======\n",
      "a is called!\n",
      "b is called!\n",
      "======\n"
     ]
    }
   ],
   "source": [
    "for i in range(5):\n",
    "    battle()\n",
    "    print('======')"
   ]
  },
  {
   "cell_type": "markdown",
   "metadata": {},
   "source": [
    "このように、aはbより常に先に呼び出されます。ここまでだと何の問題もないように見えますが、実際にはそうではありません。\n",
    "このコードを高速に動作させたい、つまり並列化を行う時にはどうなるでしょうか。\n",
    "関数`a`, `b`に依存関係はありませんから、これらを並列に動作させても問題ないように感じます。\n",
    "ですが、実際には `a`, `b`が返す関数は呼び出し順序に依存しています！従って、このままではせっかく`np.random.seed`をしても意味がなくなってしまいます。"
   ]
  },
  {
   "cell_type": "markdown",
   "metadata": {},
   "source": [
    "# JAXの乱数生成\n",
    "\n",
    "では、JAXにおける乱数生成を確認してみます。\n",
    "先ほどまでで述べたように、次のような条件を満たす乱数生成器を実装したいです。\n",
    "\n",
    "- 再現性があること\n",
    "- 並列化できること\n",
    "\n",
    "これらを実現するために、JAXでは<b>key</b>という概念が用いられます。"
   ]
  },
  {
   "cell_type": "code",
   "execution_count": 104,
   "metadata": {},
   "outputs": [
    {
     "data": {
      "text/plain": [
       "DeviceArray([0, 0], dtype=uint32)"
      ]
     },
     "execution_count": 104,
     "metadata": {},
     "output_type": "execute_result"
    }
   ],
   "source": [
    "key = jax.random.PRNGKey(0)\n",
    "key"
   ]
  },
  {
   "cell_type": "markdown",
   "metadata": {},
   "source": [
    "keyは単に二つの実数値からなるオブジェクトで、これを用いることによって、JAXでは乱数を生成します。"
   ]
  },
  {
   "cell_type": "code",
   "execution_count": 105,
   "metadata": {},
   "outputs": [
    {
     "data": {
      "text/plain": [
       "DeviceArray(-0.20584235, dtype=float32)"
      ]
     },
     "execution_count": 105,
     "metadata": {},
     "output_type": "execute_result"
    }
   ],
   "source": [
    "jax.random.normal(key)"
   ]
  },
  {
   "cell_type": "markdown",
   "metadata": {},
   "source": [
    "そして、keyが同じであれば同じ値が生成されます。"
   ]
  },
  {
   "cell_type": "code",
   "execution_count": 106,
   "metadata": {},
   "outputs": [
    {
     "name": "stdout",
     "output_type": "stream",
     "text": [
      "[0 0] -0.20584235\n",
      "[0 0] -0.20584235\n",
      "[0 0] -0.20584235\n",
      "[0 0] -0.20584235\n",
      "[0 0] -0.20584235\n",
      "[0 0] -0.20584235\n",
      "[0 0] -0.20584235\n",
      "[0 0] -0.20584235\n",
      "[0 0] -0.20584235\n"
     ]
    }
   ],
   "source": [
    "print(key, jax.random.normal(key))\n",
    "print(key, jax.random.normal(key))\n",
    "print(key, jax.random.normal(key))\n",
    "print(key, jax.random.normal(key))\n",
    "print(key, jax.random.normal(key))\n",
    "print(key, jax.random.normal(key))\n",
    "print(key, jax.random.normal(key))\n",
    "print(key, jax.random.normal(key))\n",
    "print(key, jax.random.normal(key))"
   ]
  },
  {
   "cell_type": "markdown",
   "metadata": {},
   "source": [
    "とはいえこれだけだとひとつの数字しか得ることができません。もっとたくさんの乱数が欲しくなった際には、`jax.random.split`を用います。"
   ]
  },
  {
   "cell_type": "code",
   "execution_count": 107,
   "metadata": {},
   "outputs": [
    {
     "name": "stdout",
     "output_type": "stream",
     "text": [
      "[0 0] -> [4146024105  967050713] [2718843009 1272950319]\n"
     ]
    }
   ],
   "source": [
    "key1, key2 = jax.random.split(key)\n",
    "print(key, '->', key1, key2)"
   ]
  },
  {
   "cell_type": "markdown",
   "metadata": {},
   "source": [
    "`jax.random.split`によって、ひとつのkeyから2つのkeyが作り出されます。\n",
    "このkeyによって、また新しい乱数を生み出します。　"
   ]
  },
  {
   "cell_type": "markdown",
   "metadata": {},
   "source": [
    "ちなみに、この二つのkeyは等価ですが、慣例的に二つ目を新しい乱数生成につかい、一つ目はまた新しいkeyを使うために用いられるようです。(以下のコードを参照)"
   ]
  },
  {
   "cell_type": "code",
   "execution_count": 108,
   "metadata": {},
   "outputs": [],
   "source": [
    "# 慣例的に二つ目をsub_keyとして新しい乱数生成に、一つ目をまた新しい乱数を作るために使用する(下のように書くことでsplit元の古いkeyも削除できる。keyが残ると誤って同じ乱数を作ってしまうので注意が必要。)\n",
    "key, sub_key = jax.random.split(key)\n",
    "key, subsub_key  = jax.random.split(key)"
   ]
  },
  {
   "cell_type": "markdown",
   "metadata": {},
   "source": [
    "また、同じkeyから分割されたkeyは、常に等しくなります。"
   ]
  },
  {
   "cell_type": "code",
   "execution_count": 109,
   "metadata": {},
   "outputs": [],
   "source": [
    "def check_split(seed):\n",
    "    key = jax.random.PRNGKey(seed)\n",
    "    key, sub_key = jax.random.split(key)\n",
    "    print(key, '->', key, sub_key)"
   ]
  },
  {
   "cell_type": "code",
   "execution_count": 110,
   "metadata": {},
   "outputs": [
    {
     "name": "stdout",
     "output_type": "stream",
     "text": [
      "[4146024105  967050713] -> [4146024105  967050713] [2718843009 1272950319]\n",
      "[4146024105  967050713] -> [4146024105  967050713] [2718843009 1272950319]\n",
      "[4146024105  967050713] -> [4146024105  967050713] [2718843009 1272950319]\n",
      "=============================================================================\n",
      "[2965909967 2346697052] -> [2965909967 2346697052] [2813626588  818499380]\n",
      "[2965909967 2346697052] -> [2965909967 2346697052] [2813626588  818499380]\n",
      "[2965909967 2346697052] -> [2965909967 2346697052] [2813626588  818499380]\n"
     ]
    }
   ],
   "source": [
    "check_split(0)\n",
    "check_split(0)\n",
    "check_split(0)\n",
    "print('=============================================================================')\n",
    "check_split(2004)\n",
    "check_split(2004)\n",
    "check_split(2004)"
   ]
  },
  {
   "cell_type": "markdown",
   "metadata": {},
   "source": [
    "また、一度に何個にもsplitできます。例えば1つのkeyから次のようにして10個のkeyを得ることができます。\n"
   ]
  },
  {
   "cell_type": "code",
   "execution_count": 111,
   "metadata": {},
   "outputs": [],
   "source": [
    "# 何個にもsplitできる。\n",
    "key = jax.random.PRNGKey(0)\n",
    "key, *sub_keys = jax.random.split(key, num=10)"
   ]
  },
  {
   "cell_type": "code",
   "execution_count": 112,
   "metadata": {},
   "outputs": [
    {
     "data": {
      "text/plain": [
       "array([3668660785,  713825972], dtype=uint32)"
      ]
     },
     "execution_count": 112,
     "metadata": {},
     "output_type": "execute_result"
    }
   ],
   "source": [
    "key"
   ]
  },
  {
   "cell_type": "code",
   "execution_count": 113,
   "metadata": {},
   "outputs": [
    {
     "data": {
      "text/plain": [
       "[array([1185646547, 2092858387], dtype=uint32),\n",
       " array([4260797006,  129535844], dtype=uint32),\n",
       " array([ 928977296, 1618649917], dtype=uint32),\n",
       " array([2708837749, 4129373854], dtype=uint32),\n",
       " array([ 652965180, 3955248629], dtype=uint32),\n",
       " array([1312337421, 1285539814], dtype=uint32),\n",
       " array([2974568872, 3669116123], dtype=uint32),\n",
       " array([1997906629, 3379841639], dtype=uint32),\n",
       " array([4278014892, 1203387755], dtype=uint32)]"
      ]
     },
     "execution_count": 113,
     "metadata": {},
     "output_type": "execute_result"
    }
   ],
   "source": [
    "sub_keys"
   ]
  },
  {
   "cell_type": "markdown",
   "metadata": {},
   "source": [
    "# sequential-equivalent"
   ]
  },
  {
   "cell_type": "markdown",
   "metadata": {},
   "source": [
    "Numpyではsequential-equivalentが保障されています。(適切な訳語がわからない)\n",
    "\n",
    "簡単にいうと、まとめてN個の乱数を取得することと、ひとつひとつ乱数を取得して連結したものは等価である、ということが保障されています。(以下のコードを見るとわかりやすいです)"
   ]
  },
  {
   "cell_type": "code",
   "execution_count": 114,
   "metadata": {},
   "outputs": [
    {
     "name": "stdout",
     "output_type": "stream",
     "text": [
      "[0.5488135  0.71518937 0.60276338 0.54488318 0.4236548  0.64589411\n",
      " 0.43758721 0.891773   0.96366276 0.38344152]\n",
      "================================================\n",
      "[0.5488135  0.71518937 0.60276338 0.54488318 0.4236548  0.64589411\n",
      " 0.43758721 0.891773   0.96366276 0.38344152]\n"
     ]
    }
   ],
   "source": [
    "# ひとつずつ\n",
    "np.random.seed(0)\n",
    "print(np.array([np.random.rand() for i in range(10)]))\n",
    "\n",
    "print('================================================')\n",
    "\n",
    "# まとめて \n",
    "np.random.seed(0)\n",
    "print(np.random.rand(10))"
   ]
  },
  {
   "cell_type": "markdown",
   "metadata": {},
   "source": [
    "ところがJAXではその限りではありません。JAXで10個の配列を取得する方法としては、\n",
    "\n",
    "- keyを10個用意する\n",
    "- ひとつのkeyから10個作るということが考えられます。"
   ]
  },
  {
   "cell_type": "code",
   "execution_count": 115,
   "metadata": {},
   "outputs": [
    {
     "name": "stdout",
     "output_type": "stream",
     "text": [
      "[-1.3700832  -1.6277806   1.2452871  -1.0201586   0.80342007 -1.5052081\n",
      " -1.2988805   0.3053512  -0.22334994  1.1694573 ]\n"
     ]
    }
   ],
   "source": [
    "# やり方 1: keyを10個用意\n",
    "key = jax.random.PRNGKey(0)\n",
    "key, *sub_keys = jax.random.split(key, 11)\n",
    "print(np.array([jax.random.normal(sub_key) for sub_key in sub_keys]))"
   ]
  },
  {
   "cell_type": "code",
   "execution_count": 116,
   "metadata": {},
   "outputs": [
    {
     "name": "stdout",
     "output_type": "stream",
     "text": [
      "[-0.372111    0.2642311  -0.18252774 -0.7368198  -0.44030386 -0.15214427\n",
      " -0.6713536  -0.59086424  0.73168874  0.56730247]\n"
     ]
    }
   ],
   "source": [
    "# やり方 2: ひとつのkeyから10個作る\n",
    "key = jax.random.PRNGKey(0)\n",
    "print(np.array(jax.random.normal(key, shape=(10,))))"
   ]
  },
  {
   "cell_type": "markdown",
   "metadata": {},
   "source": [
    "しかし、見ての通り生成される乱数は異なっています。(JAXではsequential-equivalentは保障されません。)\n",
    "この理由として、\n",
    "\n",
    "> As in NumPy, JAX's random module also allows sampling of vectors of numbers. However, JAX does not provide a sequential equivalence guarantee, because doing so would interfere with the vectorization on SIMD hardware\n",
    "\n",
    "が[ドキュメント](https://colab.research.google.com/github/google/jax/blob/main/docs/jax-101/05-random-numbers.ipynb#scrollTo=Fhu7ejhLB4R_)で挙げられています。\n",
    "どういうことだってばよ。\n",
    "\n",
    "[design_note](https://github.com/google/jax/blob/main/design_notes/prng.md#design)"
   ]
  }
 ],
 "metadata": {
  "kernelspec": {
   "display_name": "Python 3",
   "language": "python",
   "name": "python3"
  },
  "language_info": {
   "codemirror_mode": {
    "name": "ipython",
    "version": 3
   },
   "file_extension": ".py",
   "mimetype": "text/x-python",
   "name": "python",
   "nbconvert_exporter": "python",
   "pygments_lexer": "ipython3",
   "version": "3.7.2"
  },
  "widgets": {
   "application/vnd.jupyter.widget-state+json": {
    "state": {},
    "version_major": 2,
    "version_minor": 0
   }
  }
 },
 "nbformat": 4,
 "nbformat_minor": 4
}
