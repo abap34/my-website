{
 "cells": [
  {
   "cell_type": "markdown",
   "metadata": {},
   "source": [
    "# Juliaでカラフルに点滅するクリスマスツリーを描こう\n",
    "> Juliaでカラフルに点滅するクリスマスツリーを描きます。\n",
    "\n",
    "- toc: true \n",
    "- badges: true\n",
    "- comments: true\n",
    "- categories: [JuliaLang, ネタ]\n",
    "- image: images/chart-preview.png"
   ]
  },
  {
   "cell_type": "raw",
   "metadata": {},
   "source": [
    "元ネタは特にないですが、Juliaでカラフルなクリスマスツリーを描きたいと思います、他の言語での実装お待ちしています！"
   ]
  },
  {
   "cell_type": "code",
   "execution_count": 25,
   "metadata": {},
   "outputs": [],
   "source": [
    "S = \"\\t☆ \n",
    "　　　  ／＼ \n",
    "　　  ／★∴  ＼\n",
    "　　 (人_人_人)\n",
    "　　／∴∵★∵★∵＼\n",
    "　 (_人_人_人_人)\n",
    "　 ／☆∴∵∴∵★ ∴＼\n",
    "　(_人★人☆人_ 人_)\n",
    "　　　  ￣凵￣ \";"
   ]
  },
  {
   "cell_type": "raw",
   "metadata": {},
   "source": [
    "とりあえずこのツリーをカラフルに点滅させます。"
   ]
  },
  {
   "cell_type": "markdown",
   "metadata": {},
   "source": [
    "###  printstyled"
   ]
  },
  {
   "cell_type": "raw",
   "metadata": {},
   "source": [
    "printstyledは、いい感じに見た目を整えて出力できる関数です。試してみます。"
   ]
  },
  {
   "cell_type": "code",
   "execution_count": 26,
   "metadata": {},
   "outputs": [
    {
     "name": "stdout",
     "output_type": "stream",
     "text": [
      "\u001b[32mGReeeeN\u001b[39m"
     ]
    }
   ],
   "source": [
    "printstyled(\"GReeeeN\", color=:green)"
   ]
  },
  {
   "cell_type": "raw",
   "metadata": {},
   "source": [
    "今回は, 照明部分はランダムな色に、葉は緑、幹は赤色にしてみます"
   ]
  },
  {
   "cell_type": "code",
   "execution_count": 27,
   "metadata": {},
   "outputs": [
    {
     "data": {
      "text/plain": [
       "show_tree (generic function with 1 method)"
      ]
     },
     "execution_count": 27,
     "metadata": {},
     "output_type": "execute_result"
    }
   ],
   "source": [
    "function show_tree()\n",
    "    for s in S\n",
    "        if s in ('∴', '☆', '∵', '★', '☆')\n",
    "            printstyled(s, color=rand(1:255))\n",
    "        elseif s in ('￣', '凵', '￣') \n",
    "            printstyled(s, color=:red)\n",
    "        else\n",
    "            printstyled(s, color=:light_green)\n",
    "        end\n",
    "    end\n",
    "end\n"
   ]
  },
  {
   "cell_type": "code",
   "execution_count": 28,
   "metadata": {},
   "outputs": [
    {
     "name": "stdout",
     "output_type": "stream",
     "text": [
      "\u001b[92m\t\u001b[39m\u001b[38;5;43m☆\u001b[39m\u001b[92m \u001b[39m\n",
      "\u001b[92m　\u001b[39m\u001b[92m　\u001b[39m\u001b[92m　\u001b[39m\u001b[92m \u001b[39m\u001b[92m \u001b[39m\u001b[92m／\u001b[39m\u001b[92m＼\u001b[39m\u001b[92m \u001b[39m\n",
      "\u001b[92m　\u001b[39m\u001b[92m　\u001b[39m\u001b[92m \u001b[39m\u001b[92m \u001b[39m\u001b[92m／\u001b[39m\u001b[38;5;82m★\u001b[39m\u001b[38;5;34m∴\u001b[39m\u001b[92m \u001b[39m\u001b[92m \u001b[39m\u001b[92m＼\u001b[39m\n",
      "\u001b[92m　\u001b[39m\u001b[92m　\u001b[39m\u001b[92m \u001b[39m\u001b[92m(\u001b[39m\u001b[92m人\u001b[39m\u001b[92m_\u001b[39m\u001b[92m人\u001b[39m\u001b[92m_\u001b[39m\u001b[92m人\u001b[39m\u001b[92m)\u001b[39m\n",
      "\u001b[92m　\u001b[39m\u001b[92m　\u001b[39m\u001b[92m／\u001b[39m\u001b[38;5;178m∴\u001b[39m\u001b[38;5;129m∵\u001b[39m\u001b[38;5;109m★\u001b[39m\u001b[38;5;96m∵\u001b[39m\u001b[38;5;176m★\u001b[39m\u001b[38;5;177m∵\u001b[39m\u001b[92m＼\u001b[39m\n",
      "\u001b[92m　\u001b[39m\u001b[92m \u001b[39m\u001b[92m(\u001b[39m\u001b[92m_\u001b[39m\u001b[92m人\u001b[39m\u001b[92m_\u001b[39m\u001b[92m人\u001b[39m\u001b[92m_\u001b[39m\u001b[92m人\u001b[39m\u001b[92m_\u001b[39m\u001b[92m人\u001b[39m\u001b[92m)\u001b[39m\n",
      "\u001b[92m　\u001b[39m\u001b[92m \u001b[39m\u001b[92m／\u001b[39m\u001b[38;5;72m☆\u001b[39m\u001b[38;5;104m∴\u001b[39m\u001b[38;5;195m∵\u001b[39m\u001b[38;5;33m∴\u001b[39m\u001b[38;5;248m∵\u001b[39m\u001b[38;5;78m★\u001b[39m\u001b[92m \u001b[39m\u001b[38;5;249m∴\u001b[39m\u001b[92m＼\u001b[39m\n",
      "\u001b[92m　\u001b[39m\u001b[92m(\u001b[39m\u001b[92m_\u001b[39m\u001b[92m人\u001b[39m\u001b[38;5;101m★\u001b[39m\u001b[92m人\u001b[39m\u001b[38;5;106m☆\u001b[39m\u001b[92m人\u001b[39m\u001b[92m_\u001b[39m\u001b[92m \u001b[39m\u001b[92m人\u001b[39m\u001b[92m_\u001b[39m\u001b[92m)\u001b[39m\n",
      "\u001b[92m　\u001b[39m\u001b[92m　\u001b[39m\u001b[92m　\u001b[39m\u001b[92m \u001b[39m\u001b[92m \u001b[39m\u001b[31m￣\u001b[39m\u001b[31m凵\u001b[39m\u001b[31m￣\u001b[39m\u001b[92m \u001b[39m"
     ]
    }
   ],
   "source": [
    "show_tree()"
   ]
  },
  {
   "cell_type": "raw",
   "metadata": {},
   "source": [
    "さて, 点滅させるには出力を更新し続ける必要があります。\n",
    "今回は出力を丸ごと消去して再度描画することで更新します。(カス実装の自覚はあるので誰かなんとかしてください)"
   ]
  },
  {
   "cell_type": "code",
   "execution_count": 29,
   "metadata": {},
   "outputs": [
    {
     "data": {
      "text/plain": [
       "clean (generic function with 1 method)"
      ]
     },
     "execution_count": 29,
     "metadata": {},
     "output_type": "execute_result"
    }
   ],
   "source": [
    "function clean(H)\n",
    "    buf = IOBuffer()\n",
    "    for i in 1:H+1\n",
    "        print(buf, \"\\x1b[2K\") # clear line\n",
    "        print(buf, \"\\x1b[999D\\x1b[$(1)A\") # rollback\n",
    "    end\n",
    "    print(buf |> take! |> String)\n",
    "end"
   ]
  },
  {
   "cell_type": "markdown",
   "metadata": {},
   "source": [
    "この `clean(H)` で出力をH行戻すことができます。"
   ]
  },
  {
   "cell_type": "raw",
   "metadata": {},
   "source": [
    "このコードはごまふさん(https://twitter.com/MathSorcerer)\n",
    "の物を拝借しました。ありがとうございます。\n",
    "\n",
    "さて、あとはいい感じにループさせるだけです。"
   ]
  },
  {
   "cell_type": "code",
   "execution_count": null,
   "metadata": {},
   "outputs": [],
   "source": [
    "H = 7\n",
    "for i in 1:100\n",
    "    show_tree()\n",
    "    sleep(0.5)\n",
    "    clean(H)\n",
    "end"
   ]
  },
  {
   "cell_type": "raw",
   "metadata": {},
   "source": [
    "結果はぜひみなさんのREPLで試してみてください！"
   ]
  }
 ],
 "metadata": {
  "kernelspec": {
   "display_name": "Julia 1.4.0",
   "language": "julia",
   "name": "julia-1.4"
  },
  "language_info": {
   "file_extension": ".jl",
   "mimetype": "application/julia",
   "name": "julia",
   "version": "1.4.0"
  },
  "widgets": {
   "application/vnd.jupyter.widget-state+json": {
    "state": {},
    "version_major": 2,
    "version_minor": 0
   }
  }
 },
 "nbformat": 4,
 "nbformat_minor": 4
}
