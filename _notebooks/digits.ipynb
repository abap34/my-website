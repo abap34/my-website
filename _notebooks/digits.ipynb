{
 "cells": [
  {
   "cell_type": "markdown",
   "metadata": {},
   "source": [
    "# JuliaでBit全探索を書く時にはdigitsを使うと便利。\n",
    "> Julia言語でBit全探索を実装します。\n",
    "\n",
    "- toc: true \n",
    "- badges: true\n",
    "- comments: true\n",
    "- categories: [AtCoder]\n",
    "- image: images/chart-preview.png\n"
   ]
  },
  {
   "cell_type": "markdown",
   "metadata": {},
   "source": [
    "# digitsについて"
   ]
  },
  {
   "cell_type": "markdown",
   "metadata": {},
   "source": [
    "digits(a, base=b, pad=c)は、10進数の整数aをc桁のb進数に変換した配列を返します。\n",
    "\n",
    "\n",
    "例えば,"
   ]
  },
  {
   "cell_type": "code",
   "execution_count": 1,
   "metadata": {},
   "outputs": [
    {
     "output_type": "stream",
     "name": "stdout",
     "text": [
      "[0, 1, 1, 0, 1, 0]\n"
     ]
    }
   ],
   "source": [
    "n = 22\n",
    "println(digits(n, base=2, pad=6))"
   ]
  },
  {
   "cell_type": "markdown",
   "metadata": {},
   "source": [
    "$22 = 10110_2$ なので、正しいですね！ 桁数が足りない場合は0で埋められます。"
   ]
  },
  {
   "cell_type": "markdown",
   "metadata": {},
   "source": [
    "Juliaでは、これを利用して、Bit全探索を用意に実装できます。\n",
    "\n",
    "(Bit全探索については、https://algo-logic.info/rec-bit-search/ がわかりやすいのでおすすめです)\n",
    "\n",
    "具体的には以下のようなコードです。"
   ]
  },
  {
   "cell_type": "code",
   "execution_count": 2,
   "metadata": {},
   "outputs": [
    {
     "output_type": "stream",
     "name": "stdout",
     "text": [
      "[0, 0, 0, 0]\n[1, 0, 0, 0]\n[0, 1, 0, 0]\n[1, 1, 0, 0]\n[0, 0, 1, 0]\n[1, 0, 1, 0]\n[0, 1, 1, 0]\n[1, 1, 1, 0]\n[0, 0, 0, 1]\n[1, 0, 0, 1]\n[0, 1, 0, 1]\n[1, 1, 0, 1]\n[0, 0, 1, 1]\n[1, 0, 1, 1]\n[0, 1, 1, 1]\n[1, 1, 1, 1]\n"
     ]
    }
   ],
   "source": [
    "N = 4\n",
    "for i in 0:2^N - 1\n",
    "    pettern = digits(i, base=2, pad=N)\n",
    "    println(pettern)\n",
    "end"
   ]
  },
  {
   "cell_type": "markdown",
   "metadata": {},
   "source": [
    "あとはこの各パターンについて\n",
    "\n",
    "`1 -> True`,\n",
    "`0 -> False`\n",
    "\n",
    "と見做して処理を行えば良いです。具体的に問題を解いてみます。"
   ]
  },
  {
   "cell_type": "markdown",
   "metadata": {},
   "source": [
    "# 　部分和問題"
   ]
  },
  {
   "cell_type": "markdown",
   "metadata": {},
   "source": [
    "部分和問題とは、\n",
    "n 個の整数 $a_1,...,a_n$ からなる配列Aと,\n",
    "\n",
    "整数 S が与えられた時、適切な部分集合を選んで、総和をSとすることができるかを判定する問題です。\n",
    "\n",
    "\n",
    "例えば,\n",
    "\n",
    "```julia\n",
    "A = [1, 2, 4, 5]\n",
    "S = 8\n",
    "```\n",
    "\n",
    "の時,\n",
    "\n",
    "\n",
    "$A_1 + A_2 + A_3 = 8$ なので、適切な部分集合を選んで総和をSとすることができました。\n",
    "\n",
    "nが小さい時は、bit全探索を用いることで実用的な速度で解くことができます。"
   ]
  },
  {
   "cell_type": "markdown",
   "metadata": {},
   "source": [
    "この記事で最初に解説したように, digitsを用いて全てのパターンを列挙します。"
   ]
  },
  {
   "cell_type": "code",
   "execution_count": 3,
   "metadata": {},
   "outputs": [
    {
     "output_type": "stream",
     "name": "stdout",
     "text": [
      "[0, 0, 0, 0]\n[1, 0, 0, 0]\n[0, 1, 0, 0]\n[1, 1, 0, 0]\n[0, 0, 1, 0]\n[1, 0, 1, 0]\n[0, 1, 1, 0]\n[1, 1, 1, 0]\n[0, 0, 0, 1]\n[1, 0, 0, 1]\n[0, 1, 0, 1]\n[1, 1, 0, 1]\n[0, 0, 1, 1]\n[1, 0, 1, 1]\n[0, 1, 1, 1]\n[1, 1, 1, 1]\n"
     ]
    }
   ],
   "source": [
    "N = 4\n",
    "for i in 0:2^N - 1\n",
    "    pettern = digits(i, base=2, pad=N)\n",
    "    println(pettern)\n",
    "end"
   ]
  },
  {
   "cell_type": "markdown",
   "metadata": {},
   "source": [
    "ここで0を `false` (つまりそれを選択しない), \n",
    "\n",
    "1を`true`(それを選択する)とみなした時、\n",
    "\n",
    "そのパターンを表す配列を $P$ とすると、選択した要素の和は, \n",
    "\n",
    "\n",
    "$$\n",
    "dot(A, P) = (A_1 * P_1 + A_2 * P_2  + ... + A_N * P_N)\n",
    "$$\n",
    "\n",
    "なので、\n",
    "\n",
    "\n",
    "$dot(A, P)$ と表すことができます。"
   ]
  },
  {
   "cell_type": "markdown",
   "metadata": {},
   "source": [
    "したがって、部分和問題は次のようなコードで解けます。\n",
    "\n",
    "とてもシンプルですね！"
   ]
  },
  {
   "cell_type": "code",
   "execution_count": 4,
   "metadata": {},
   "outputs": [
    {
     "output_type": "execute_result",
     "data": {
      "text/plain": [
       "solve (generic function with 1 method)"
      ]
     },
     "metadata": {},
     "execution_count": 4
    }
   ],
   "source": [
    "using LinearAlgebra\n",
    "\n",
    "function solve(N, A, S)\n",
    "    for i in 0:2^N - 1\n",
    "        P = digits(i, base=2, pad=N)\n",
    "        if dot(A, P) == S\n",
    "            return \"OK, P = $P\"\n",
    "        end\n",
    "    end\n",
    "    return \"NO\"\n",
    "end"
   ]
  },
  {
   "cell_type": "code",
   "execution_count": 5,
   "metadata": {},
   "outputs": [
    {
     "output_type": "stream",
     "name": "stdout",
     "text": [
      "N = 4\nA = [4, 5, 8, 8]\nS = 14\n"
     ]
    },
    {
     "output_type": "execute_result",
     "data": {
      "text/plain": [
       "\"NO\""
      ]
     },
     "metadata": {},
     "execution_count": 5
    }
   ],
   "source": [
    "N = 4\n",
    "A = rand(1:10, N) \n",
    "S = rand(1:40)\n",
    "\n",
    "@show N\n",
    "@show A\n",
    "@show S\n",
    "\n",
    "solve(N, A, S)"
   ]
  },
  {
   "cell_type": "markdown",
   "metadata": {},
   "source": [
    "計算量は、内積に$O(N)$かかり、パターンの数が$2^N$個あることから、\n",
    "\n",
    "$O(N2^N)$\n",
    "\n",
    "です。\n",
    "\n",
    "そのため、Nが大きくなると計算時間がすごいことになります。実験してみます。"
   ]
  },
  {
   "cell_type": "code",
   "execution_count": 6,
   "metadata": {},
   "outputs": [
    {
     "output_type": "stream",
     "name": "stderr",
     "text": [
      "┌ Info: For saving to png with the Plotly backend ORCA has to be installed.\n└ @ Plots /Users/yuchi_ymgc/.julia/packages/Plots/8GUYs/src/backends.jl:363\n"
     ]
    }
   ],
   "source": [
    "using Plots; plotly()\n",
    "using BenchmarkTools"
   ]
  },
  {
   "cell_type": "code",
   "execution_count": 7,
   "metadata": {},
   "outputs": [
    {
     "output_type": "execute_result",
     "data": {
      "text/plain": [
       "benchmark (generic function with 1 method)"
      ]
     },
     "metadata": {},
     "execution_count": 7
    }
   ],
   "source": [
    "# 最悪の計算量が知りたいので、絶対に「\"No\"」になるようなケースについて調べます。\n",
    "# Aは全て0, 和が1とします。\n",
    "\n",
    "function benchmark(N)\n",
    "    times = zeros(N)\n",
    "    S = 1\n",
    "    for i in 1:N\n",
    "        A = zeros(Int, i)\n",
    "        benchmark = @benchmark solve($i, $A, $S)\n",
    "        times[i] = mean(benchmark.times)\n",
    "    end\n",
    "    return times\n",
    "end"
   ]
  },
  {
   "cell_type": "code",
   "execution_count": 8,
   "metadata": {},
   "outputs": [
    {
     "output_type": "execute_result",
     "data": {
      "text/plain": [
       "16-element Array{Float64,1}:\n",
       "    138.09468483206933\n",
       "    280.2775378923767\n",
       "    559.1062071428572\n",
       "   1150.0704342105266\n",
       "   2360.3050700000003\n",
       "   4863.900942857144\n",
       "   9812.481966666666\n",
       "  19957.0549\n",
       "  41551.107\n",
       "  86067.5444\n",
       " 171960.281\n",
       " 354894.3546\n",
       " 848562.7232951632\n",
       "      1.774057147950089e6\n",
       "      3.5106584654929577e6\n",
       "      6.350254478371501e6"
      ]
     },
     "metadata": {},
     "execution_count": 8
    }
   ],
   "source": [
    "result = benchmark(16)"
   ]
  },
  {
   "cell_type": "code",
   "execution_count": 12,
   "metadata": {},
   "outputs": [
    {
     "output_type": "execute_result",
     "data": {
      "text/html": "<!DOCTYPE html>\n<html>\n    <head>\n        <title>Plots.jl</title>\n        <meta http-equiv=\"content-type\" content=\"text/html; charset=UTF-8\">\n        <script src=\"https://cdn.plot.ly/plotly-latest.min.js\"></script>\n    </head>\n    <body>\n            <div id=\"0e285432-646c-4ce9-9980-6555275c3ccd\" style=\"width:600px;height:400px;\"></div>\n    <script>\n    PLOT = document.getElementById('0e285432-646c-4ce9-9980-6555275c3ccd');\n    Plotly.plot(PLOT, [\n    {\n        \"xaxis\": \"x1\",\n        \"colorbar\": {\n            \"title\": \"\"\n        },\n        \"yaxis\": \"y1\",\n        \"x\": [\n            1,\n            2,\n            3,\n            4,\n            5,\n            6,\n            7,\n            8,\n            9,\n            10,\n            11,\n            12,\n            13,\n            14,\n            15,\n            16\n        ],\n        \"showlegend\": true,\n        \"mode\": \"lines\",\n        \"name\": \"y1\",\n        \"zmin\": null,\n        \"legendgroup\": \"y1\",\n        \"zmax\": null,\n        \"line\": {\n            \"color\": \"rgba(0, 154, 250, 1.000)\",\n            \"shape\": \"linear\",\n            \"dash\": \"solid\",\n            \"width\": 1\n        },\n        \"y\": [\n            138.09468483206933,\n            280.2775378923767,\n            559.1062071428572,\n            1150.0704342105266,\n            2360.3050700000003,\n            4863.900942857144,\n            9812.481966666666,\n            19957.0549,\n            41551.107,\n            86067.5444,\n            171960.281,\n            354894.3546,\n            848562.7232951632,\n            1.774057147950089e6,\n            3.5106584654929577e6,\n            6.350254478371501e6\n        ],\n        \"type\": \"scatter\"\n    }\n]\n, {\n    \"showlegend\": true,\n    \"xaxis\": {\n        \"showticklabels\": true,\n        \"gridwidth\": 0.5,\n        \"tickvals\": [\n            3.0,\n            6.0,\n            9.0,\n            12.0,\n            15.0\n        ],\n        \"visible\": true,\n        \"ticks\": \"inside\",\n        \"range\": [\n            0.55,\n            16.45\n        ],\n        \"domain\": [\n            0.09128390201224845,\n            0.9934383202099738\n        ],\n        \"tickmode\": \"array\",\n        \"linecolor\": \"rgba(0, 0, 0, 1.000)\",\n        \"showgrid\": true,\n        \"title\": \"N\",\n        \"mirror\": false,\n        \"tickangle\": 0,\n        \"showline\": true,\n        \"gridcolor\": \"rgba(0, 0, 0, 0.100)\",\n        \"titlefont\": {\n            \"color\": \"rgba(0, 0, 0, 1.000)\",\n            \"family\": \"sans-serif\",\n            \"size\": 15\n        },\n        \"tickcolor\": \"rgb(0, 0, 0)\",\n        \"ticktext\": [\n            \"3\",\n            \"6\",\n            \"9\",\n            \"12\",\n            \"15\"\n        ],\n        \"zeroline\": false,\n        \"type\": \"-\",\n        \"tickfont\": {\n            \"color\": \"rgba(0, 0, 0, 1.000)\",\n            \"family\": \"sans-serif\",\n            \"size\": 11\n        },\n        \"zerolinecolor\": \"rgba(0, 0, 0, 1.000)\",\n        \"anchor\": \"y1\"\n    },\n    \"paper_bgcolor\": \"rgba(255, 255, 255, 1.000)\",\n    \"annotations\": [],\n    \"height\": 400,\n    \"margin\": {\n        \"l\": 0,\n        \"b\": 20,\n        \"r\": 0,\n        \"t\": 20\n    },\n    \"plot_bgcolor\": \"rgba(255, 255, 255, 1.000)\",\n    \"yaxis\": {\n        \"showticklabels\": true,\n        \"gridwidth\": 0.5,\n        \"tickvals\": [\n            1000.0,\n            10000.0,\n            100000.0,\n            1.0e6\n        ],\n        \"visible\": true,\n        \"ticks\": \"inside\",\n        \"range\": [\n            2.000298538222233,\n            6.9426695544266135\n        ],\n        \"domain\": [\n            0.07581474190726165,\n            0.9901574803149606\n        ],\n        \"tickmode\": \"array\",\n        \"linecolor\": \"rgba(0, 0, 0, 1.000)\",\n        \"showgrid\": true,\n        \"title\": \"Time [ns]\",\n        \"mirror\": false,\n        \"tickangle\": 0,\n        \"showline\": true,\n        \"gridcolor\": \"rgba(0, 0, 0, 0.100)\",\n        \"titlefont\": {\n            \"color\": \"rgba(0, 0, 0, 1.000)\",\n            \"family\": \"sans-serif\",\n            \"size\": 15\n        },\n        \"tickcolor\": \"rgb(0, 0, 0)\",\n        \"ticktext\": [\n            \"10^3\",\n            \"10^4\",\n            \"10^5\",\n            \"10^6\"\n        ],\n        \"zeroline\": false,\n        \"type\": \"log\",\n        \"tickfont\": {\n            \"color\": \"rgba(0, 0, 0, 1.000)\",\n            \"family\": \"sans-serif\",\n            \"size\": 11\n        },\n        \"zerolinecolor\": \"rgba(0, 0, 0, 1.000)\",\n        \"anchor\": \"x1\"\n    },\n    \"legend\": {\n        \"tracegroupgap\": 0,\n        \"bordercolor\": \"rgba(0, 0, 0, 1.000)\",\n        \"bgcolor\": \"rgba(255, 255, 255, 1.000)\",\n        \"font\": {\n            \"color\": \"rgba(0, 0, 0, 1.000)\",\n            \"family\": \"sans-serif\",\n            \"size\": 11\n        },\n        \"y\": 1.0,\n        \"x\": 1.0\n    },\n    \"width\": 600\n}\n);\n    </script>\n\n    </body>\n</html>\n",
      "application/vnd.plotly.v1+json": {
       "layout": {
        "showlegend": true,
        "xaxis": {
         "showticklabels": true,
         "gridwidth": 0.5,
         "tickvals": [
          3,
          6,
          9,
          12,
          15
         ],
         "visible": true,
         "ticks": "inside",
         "range": [
          0.55,
          16.45
         ],
         "domain": [
          0.09128390201224845,
          0.9934383202099738
         ],
         "tickmode": "array",
         "linecolor": "rgba(0, 0, 0, 1.000)",
         "showgrid": true,
         "title": "N",
         "mirror": false,
         "tickangle": 0,
         "showline": true,
         "gridcolor": "rgba(0, 0, 0, 0.100)",
         "titlefont": {
          "color": "rgba(0, 0, 0, 1.000)",
          "family": "sans-serif",
          "size": 15
         },
         "tickcolor": "rgb(0, 0, 0)",
         "ticktext": [
          "3",
          "6",
          "9",
          "12",
          "15"
         ],
         "zeroline": false,
         "type": "-",
         "tickfont": {
          "color": "rgba(0, 0, 0, 1.000)",
          "family": "sans-serif",
          "size": 11
         },
         "zerolinecolor": "rgba(0, 0, 0, 1.000)",
         "anchor": "y1"
        },
        "paper_bgcolor": "rgba(255, 255, 255, 1.000)",
        "annotations": [],
        "height": 400,
        "margin": {
         "l": 0,
         "b": 20,
         "r": 0,
         "t": 20
        },
        "plot_bgcolor": "rgba(255, 255, 255, 1.000)",
        "yaxis": {
         "showticklabels": true,
         "gridwidth": 0.5,
         "tickvals": [
          1000,
          10000,
          100000,
          1000000
         ],
         "visible": true,
         "ticks": "inside",
         "range": [
          2.000298538222233,
          6.9426695544266135
         ],
         "domain": [
          0.07581474190726165,
          0.9901574803149606
         ],
         "tickmode": "array",
         "linecolor": "rgba(0, 0, 0, 1.000)",
         "showgrid": true,
         "title": "Time [ns]",
         "mirror": false,
         "tickangle": 0,
         "showline": true,
         "gridcolor": "rgba(0, 0, 0, 0.100)",
         "titlefont": {
          "color": "rgba(0, 0, 0, 1.000)",
          "family": "sans-serif",
          "size": 15
         },
         "tickcolor": "rgb(0, 0, 0)",
         "ticktext": [
          "10^3",
          "10^4",
          "10^5",
          "10^6"
         ],
         "zeroline": false,
         "type": "log",
         "tickfont": {
          "color": "rgba(0, 0, 0, 1.000)",
          "family": "sans-serif",
          "size": 11
         },
         "zerolinecolor": "rgba(0, 0, 0, 1.000)",
         "anchor": "x1"
        },
        "legend": {
         "tracegroupgap": 0,
         "bordercolor": "rgba(0, 0, 0, 1.000)",
         "bgcolor": "rgba(255, 255, 255, 1.000)",
         "font": {
          "color": "rgba(0, 0, 0, 1.000)",
          "family": "sans-serif",
          "size": 11
         },
         "y": 1,
         "x": 1
        },
        "width": 600
       },
       "data": [
        {
         "xaxis": "x1",
         "colorbar": {
          "title": ""
         },
         "yaxis": "y1",
         "x": [
          1,
          2,
          3,
          4,
          5,
          6,
          7,
          8,
          9,
          10,
          11,
          12,
          13,
          14,
          15,
          16
         ],
         "showlegend": true,
         "mode": "lines",
         "name": "y1",
         "zmin": null,
         "legendgroup": "y1",
         "zmax": null,
         "line": {
          "color": "rgba(0, 154, 250, 1.000)",
          "shape": "linear",
          "dash": "solid",
          "width": 1
         },
         "y": [
          138.09468483206933,
          280.2775378923767,
          559.1062071428572,
          1150.0704342105266,
          2360.3050700000003,
          4863.900942857144,
          9812.481966666666,
          19957.0549,
          41551.107,
          86067.5444,
          171960.281,
          354894.3546,
          848562.7232951632,
          1774057.147950089,
          3510658.4654929577,
          6350254.478371501
         ],
         "type": "scatter"
        }
       ]
      }
     },
     "metadata": {},
     "execution_count": 12
    }
   ],
   "source": [
    "p = plot(result,  yaxis=:log)\n",
    "xlabel!(\"N\")\n",
    "ylabel!(\"Time [ns]\")"
   ]
  },
  {
   "cell_type": "markdown",
   "metadata": {},
   "source": [
    "お手本のような指数関数ありがとうございます。Nが大きくなるにつれ計算量も爆発的に大きくなるので、使う時は気をつけましょう。"
   ]
  },
  {
   "cell_type": "code",
   "execution_count": 13,
   "metadata": {},
   "outputs": [],
   "source": [
    "clipboard(string(sprint(show, \"text/html\", p)))"
   ]
  },
  {
   "cell_type": "code",
   "execution_count": null,
   "metadata": {},
   "outputs": [],
   "source": []
  }
 ],
 "metadata": {
  "kernelspec": {
   "display_name": "Julia 1.4.0",
   "language": "julia",
   "name": "julia-1.4"
  },
  "language_info": {
   "file_extension": ".jl",
   "mimetype": "application/julia",
   "name": "julia",
   "version": "1.4.0"
  },
  "widgets": {
   "application/vnd.jupyter.widget-state+json": {
    "state": {},
    "version_major": 2,
    "version_minor": 0
   }
  }
 },
 "nbformat": 4,
 "nbformat_minor": 4
}