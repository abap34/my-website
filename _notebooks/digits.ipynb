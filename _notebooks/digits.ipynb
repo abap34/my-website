{
 "cells": [
  {
   "cell_type": "markdown",
   "metadata": {},
   "source": [
    "# JuliaでBit全探索を書く時にはdigitsを使うと便利。\n",
    "> Julia言語でBit全探索を実装します。\n",
    "\n",
    "- toc: true \n",
    "- badges: true\n",
    "- comments: true\n",
    "- categories: [AtCoder]\n",
    "- image: images/chart-preview.png\n"
   ]
  },
  {
   "cell_type": "markdown",
   "metadata": {},
   "source": [
    "# digitsについて"
   ]
  },
  {
   "cell_type": "markdown",
   "metadata": {},
   "source": [
    "digits(a, base=b, pad=c)は、10進数の整数aをc桁のb進数に変換した配列を返します。\n",
    "\n",
    "\n",
    "例えば,"
   ]
  },
  {
   "cell_type": "code",
   "execution_count": 14,
   "metadata": {},
   "outputs": [
    {
     "name": "stdout",
     "output_type": "stream",
     "text": [
      "[0, 1, 1, 0, 1, 0]\n"
     ]
    }
   ],
   "source": [
    "n = 22\n",
    "println(digits(n, base=2, pad=6))"
   ]
  },
  {
   "cell_type": "markdown",
   "metadata": {},
   "source": [
    "$22 = 10110_2$ なので、正しいですね！ 桁数が足りない場合は0で埋められます。"
   ]
  },
  {
   "cell_type": "markdown",
   "metadata": {},
   "source": [
    "Juliaでは、これを利用して、Bit全探索を用意に実装できます。\n",
    "\n",
    "(Bit全探索については、https://algo-logic.info/rec-bit-search/ がわかりやすいのでおすすめです)\n",
    "\n",
    "具体的には以下のようなコードです。"
   ]
  },
  {
   "cell_type": "code",
   "execution_count": 15,
   "metadata": {},
   "outputs": [
    {
     "name": "stdout",
     "output_type": "stream",
     "text": [
      "[0, 0, 0, 0]\n",
      "[1, 0, 0, 0]\n",
      "[0, 1, 0, 0]\n",
      "[1, 1, 0, 0]\n",
      "[0, 0, 1, 0]\n",
      "[1, 0, 1, 0]\n",
      "[0, 1, 1, 0]\n",
      "[1, 1, 1, 0]\n",
      "[0, 0, 0, 1]\n",
      "[1, 0, 0, 1]\n",
      "[0, 1, 0, 1]\n",
      "[1, 1, 0, 1]\n",
      "[0, 0, 1, 1]\n",
      "[1, 0, 1, 1]\n",
      "[0, 1, 1, 1]\n",
      "[1, 1, 1, 1]\n"
     ]
    }
   ],
   "source": [
    "N = 4\n",
    "for i in 0:2^N - 1\n",
    "    pettern = digits(i, base=2, pad=N)\n",
    "    println(pettern)\n",
    "end"
   ]
  },
  {
   "cell_type": "markdown",
   "metadata": {},
   "source": [
    "あとはこの各パターンについて\n",
    "\n",
    "`1 -> True`,\n",
    "`0 -> False`\n",
    "\n",
    "と見做して処理を行えば良いです。具体的に問題を解いてみます。"
   ]
  },
  {
   "cell_type": "markdown",
   "metadata": {},
   "source": [
    "# 　部分和問題"
   ]
  },
  {
   "cell_type": "markdown",
   "metadata": {},
   "source": [
    "部分和問題とは、\n",
    "n 個の整数 $a_1,...,a_n$ からなる配列Aと,\n",
    "\n",
    "整数 S が与えられた時、適切な部分集合を選んで、総和をSとすることができるかを判定する問題です。\n",
    "\n",
    "\n",
    "例えば,\n",
    "\n",
    "```julia\n",
    "A = [1, 2, 4, 5]\n",
    "S = 8\n",
    "```\n",
    "\n",
    "の時,\n",
    "\n",
    "\n",
    "$A_1 + A_2 + A_3 = 8$ なので、適切な部分集合を選んで総和をSとすることができました。\n",
    "\n",
    "nが小さい時は、bit全探索を用いることで実用的な速度で解くことができます。"
   ]
  },
  {
   "cell_type": "markdown",
   "metadata": {},
   "source": [
    "この記事で最初に解説したように, digitsを用いて全てのパターンを列挙します。"
   ]
  },
  {
   "cell_type": "code",
   "execution_count": 20,
   "metadata": {},
   "outputs": [
    {
     "name": "stdout",
     "output_type": "stream",
     "text": [
      "[0, 0, 0, 0]\n",
      "[1, 0, 0, 0]\n",
      "[0, 1, 0, 0]\n",
      "[1, 1, 0, 0]\n",
      "[0, 0, 1, 0]\n",
      "[1, 0, 1, 0]\n",
      "[0, 1, 1, 0]\n",
      "[1, 1, 1, 0]\n",
      "[0, 0, 0, 1]\n",
      "[1, 0, 0, 1]\n",
      "[0, 1, 0, 1]\n",
      "[1, 1, 0, 1]\n",
      "[0, 0, 1, 1]\n",
      "[1, 0, 1, 1]\n",
      "[0, 1, 1, 1]\n",
      "[1, 1, 1, 1]\n"
     ]
    }
   ],
   "source": [
    "N = 4\n",
    "for i in 0:2^N - 1\n",
    "    pettern = digits(i, base=2, pad=N)\n",
    "    println(pettern)\n",
    "end"
   ]
  },
  {
   "cell_type": "markdown",
   "metadata": {},
   "source": [
    "ここで0を `false` (つまりそれを選択しない), \n",
    "\n",
    "1を`true`(それを選択する)とみなした時、\n",
    "\n",
    "そのパターンを表す配列を $P$ とすると、選択した要素の和は, \n",
    "\n",
    "\n",
    "$$\n",
    "dot(A, P) = (A_1 * P_1 + A_2 * P_2  + ... + A_N * P_N)\n",
    "$$\n",
    "\n",
    "なので、\n",
    "\n",
    "\n",
    "$dot(A, P)$ と表すことができます。"
   ]
  },
  {
   "cell_type": "markdown",
   "metadata": {},
   "source": [
    "したがって、部分和問題は次のようなコードで解けます。\n",
    "\n",
    "とてもシンプルですね！"
   ]
  },
  {
   "cell_type": "code",
   "execution_count": 21,
   "metadata": {},
   "outputs": [
    {
     "data": {
      "text/plain": [
       "solve (generic function with 1 method)"
      ]
     },
     "execution_count": 21,
     "metadata": {},
     "output_type": "execute_result"
    }
   ],
   "source": [
    "using LinearAlgebra\n",
    "\n",
    "function solve(N, A, S)\n",
    "    for i in 0:2^N - 1\n",
    "        P = digits(i, base=2, pad=N)\n",
    "        if dot(A, P) == S\n",
    "            return \"OK, P = $P\"\n",
    "        end\n",
    "    end\n",
    "    return \"NO\"\n",
    "end"
   ]
  },
  {
   "cell_type": "code",
   "execution_count": 27,
   "metadata": {},
   "outputs": [
    {
     "name": "stdout",
     "output_type": "stream",
     "text": [
      "N = 4\n",
      "A = [9, 2, 2, 9]\n",
      "S = 13\n"
     ]
    },
    {
     "data": {
      "text/plain": [
       "\"OK, P = [1, 1, 1, 0]\""
      ]
     },
     "execution_count": 27,
     "metadata": {},
     "output_type": "execute_result"
    }
   ],
   "source": [
    "N = 4\n",
    "A = rand(1:10, N) \n",
    "S = rand(1:40)\n",
    "\n",
    "@show N\n",
    "@show A\n",
    "@show S\n",
    "\n",
    "solve(N, A, S)"
   ]
  },
  {
   "cell_type": "markdown",
   "metadata": {},
   "source": [
    "計算量は、内積に$O(N)$かかり、パターンの数が$2^N$個あることから、\n",
    "\n",
    "$O(N2^N)$\n",
    "\n",
    "です。\n",
    "\n",
    "そのため、Nが大きくなると計算時間がすごいことになります。実験してみます。"
   ]
  },
  {
   "cell_type": "code",
   "execution_count": 28,
   "metadata": {},
   "outputs": [],
   "source": [
    "using Plots; gr()\n",
    "using BenchmarkTools"
   ]
  },
  {
   "cell_type": "code",
   "execution_count": 29,
   "metadata": {},
   "outputs": [
    {
     "data": {
      "text/plain": [
       "benchmark (generic function with 1 method)"
      ]
     },
     "execution_count": 29,
     "metadata": {},
     "output_type": "execute_result"
    }
   ],
   "source": [
    "# 最悪の計算量が知りたいので、絶対に「\"No\"」になるようなケースについて調べます。\n",
    "# Aは全て0, 和が1とします。\n",
    "\n",
    "function benchmark(N)\n",
    "    times = zeros(N)\n",
    "    S = 1\n",
    "    for i in 1:N\n",
    "        A = zeros(Int, i)\n",
    "        benchmark = @benchmark solve($i, $A, $S)\n",
    "        times[i] = mean(benchmark.times)\n",
    "    end\n",
    "    return times\n",
    "end"
   ]
  },
  {
   "cell_type": "code",
   "execution_count": null,
   "metadata": {},
   "outputs": [],
   "source": [
    "result = benchmark(16)"
   ]
  },
  {
   "cell_type": "code",
   "execution_count": null,
   "metadata": {},
   "outputs": [],
   "source": [
    "plot(result,  yaxis=:log)\n",
    "xlabel!(\"N\")\n",
    "ylabel!(\"Time [ns]\")"
   ]
  },
  {
   "cell_type": "markdown",
   "metadata": {},
   "source": [
    "お手本のような指数関数ありがとうございます。Nが大きくなるにつれ計算量も爆発的に大きくなるので、使う時は気をつけましょう。"
   ]
  },
  {
   "cell_type": "code",
   "execution_count": null,
   "metadata": {},
   "outputs": [],
   "source": []
  }
 ],
 "metadata": {
  "kernelspec": {
   "display_name": "Julia 1.4.0",
   "language": "julia",
   "name": "julia-1.4"
  },
  "language_info": {
   "file_extension": ".jl",
   "mimetype": "application/julia",
   "name": "julia",
   "version": "1.4.0"
  },
  "widgets": {
   "application/vnd.jupyter.widget-state+json": {
    "state": {},
    "version_major": 2,
    "version_minor": 0
   }
  }
 },
 "nbformat": 4,
 "nbformat_minor": 4
}
