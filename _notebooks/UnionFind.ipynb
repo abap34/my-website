{
 "cells": [
  {
   "cell_type": "markdown",
   "metadata": {},
   "source": [
    "# JuliaでUnionFindを実装する\n",
    "> Julia言語でUnionFindを実装しま。\n",
    "\n",
    "- toc: true \n",
    "- badges: true\n",
    "- comments: true\n",
    "- categories: [競技プログラミング]\n",
    "- image: images/chart-preview.png"
   ]
  },
  {
   "cell_type": "markdown",
   "metadata": {},
   "source": [
    "fieldの値が更新されているのにもかかわらず、structとなっていますが、fieldがmutableなオブジェクトであればmutable structにせずとも中身が更新できます"
   ]
  },
  {
   "cell_type": "code",
   "execution_count": 2,
   "metadata": {},
   "outputs": [
    {
     "data": {
      "text/plain": [
       "unite (generic function with 1 method)"
      ]
     },
     "execution_count": 2,
     "metadata": {},
     "output_type": "execute_result"
    }
   ],
   "source": [
    "struct UnionFind\n",
    "    par :: Array{Int, 1}\n",
    "    size :: Array{Int, 1}\n",
    "    UnionFind(N) = new(collect(1:N), collect(1:N))\n",
    "end\n",
    "\n",
    "function root(uf::UnionFind, x::Int)\n",
    "    if uf.par[x] == x\n",
    "        return x\n",
    "    else\n",
    "        return uf.par[x] = root(uf, uf.par[x])\n",
    "    end\n",
    "end\n",
    "\n",
    "\n",
    "function issame(uf::UnionFind, x::Int, y::Int)\n",
    "    return root(uf, x) == root(uf, y)\n",
    "end\n",
    "\n",
    "function unite(uf::UnionFind, x::Int, y::Int)\n",
    "    x = root(uf, x)\n",
    "    y = root(uf, y)\n",
    "    (x == y) && (return true)\n",
    "    if (uf.size[x] < uf.size[y]) \n",
    "        uf.par[x] = y\n",
    "        uf.size[y] += uf.size[x]\n",
    "    else\n",
    "        uf.par[y] = x\n",
    "        uf.size[x] += uf.size[y]\n",
    "    end\n",
    "    return true\n",
    "end"
   ]
  },
  {
   "cell_type": "markdown",
   "metadata": {},
   "source": [
    "[https://atcoder.jp/contests/atc001/submissions/18284457:embed:cite]"
   ]
  }
 ],
 "metadata": {
  "kernelspec": {
   "display_name": "Julia 1.4.0",
   "language": "julia",
   "name": "julia-1.4"
  },
  "language_info": {
   "file_extension": ".jl",
   "mimetype": "application/julia",
   "name": "julia",
   "version": "1.4.0"
  },
  "widgets": {
   "application/vnd.jupyter.widget-state+json": {
    "state": {},
    "version_major": 2,
    "version_minor": 0
   }
  }
 },
 "nbformat": 4,
 "nbformat_minor": 4
}
