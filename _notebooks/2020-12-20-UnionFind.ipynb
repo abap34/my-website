{
 "cells": [
  {
   "cell_type": "markdown",
   "metadata": {},
   "source": [
    "# JuliaでUnionFindを実装する\n",
    "> Julia言語でUnionFindを実装します\n",
    "\n",
    "- toc: true \n",
    "- badges: true\n",
    "- comments: true\n",
    "- categories: [AtCoder]\n",
    "- image: images/chart-preview.png"
   ]
  },
  {
   "cell_type": "markdown",
   "metadata": {},
   "source": [
    "fieldの値が更新されているのにもかかわらず、structとなっていますが、fieldがmutableなオブジェクトであればmutable structにせずとも中身が更新できます。\n",
    "また、rootは経路圧縮を、uniteは統合する処理を行う破壊的な関数なので、Juliaの慣習にしたがって!をつけています"
   ]
  },
  {
   "cell_type": "code",
   "execution_count": 14,
   "metadata": {},
   "outputs": [
    {
     "data": {
      "text/plain": [
       "unite! (generic function with 1 method)"
      ]
     },
     "metadata": {},
     "output_type": "display_data"
    }
   ],
   "source": [
    "struct UnionFind\n",
    "    par :: Array{Int, 1}\n",
    "    size :: Array{Int, 1}\n",
    "    UnionFind(N) = new(collect(1:N), collect(1:N))\n",
    "end\n",
    "\n",
    "function root!(uf::UnionFind, x::Int)\n",
    "    if uf.par[x] == x\n",
    "        return x\n",
    "    else\n",
    "        return uf.par[x] = root!(uf, uf.par[x])\n",
    "    end\n",
    "end\n",
    "\n",
    "\n",
    "function issame(uf::UnionFind, x::Int, y::Int)\n",
    "    return root!(uf, x) == root!(uf, y)\n",
    "end\n",
    "\n",
    "function unite!(uf::UnionFind, x::Int, y::Int)\n",
    "    x = root!(uf, x)\n",
    "    y = root!(uf, y)\n",
    "    (x == y) && (return true)\n",
    "    if (uf.size[x] < uf.size[y]) \n",
    "        uf.par[x] = y\n",
    "        uf.size[y] += uf.size[x]\n",
    "    else\n",
    "        uf.par[y] = x\n",
    "        uf.size[x] += uf.size[y]\n",
    "    end\n",
    "    return true\n",
    "end"
   ]
  },
  {
   "cell_type": "code",
   "execution_count": 15,
   "metadata": {},
   "outputs": [
    {
     "data": {
      "text/plain": [
       "UnionFind([1, 2, 3, 4, 5], [1, 2, 3, 4, 5])"
      ]
     },
     "metadata": {},
     "output_type": "display_data"
    }
   ],
   "source": [
    "uf = UnionFind(5)"
   ]
  },
  {
   "cell_type": "code",
   "execution_count": 16,
   "metadata": {},
   "outputs": [
    {
     "data": {
      "text/plain": [
       "true"
      ]
     },
     "metadata": {},
     "output_type": "display_data"
    }
   ],
   "source": [
    "unite!(uf, 2, 3)\n",
    "unite!(uf, 1, 4)\n",
    "unite!(uf, 1, 5)"
   ]
  },
  {
   "cell_type": "code",
   "execution_count": 17,
   "metadata": {},
   "outputs": [
    {
     "data": {
      "text/plain": [
       "3"
      ]
     },
     "metadata": {},
     "output_type": "display_data"
    }
   ],
   "source": [
    "root!(uf, 2)"
   ]
  },
  {
   "cell_type": "markdown",
   "metadata": {},
   "source": [
    "[https://atcoder.jp/contests/atc001/submissions/18284457]"
   ]
  }
 ],
 "metadata": {
  "kernelspec": {
   "display_name": "Julia 1.7.1",
   "language": "julia",
   "name": "julia-1.7"
  },
  "language_info": {
   "file_extension": ".jl",
   "mimetype": "application/julia",
   "name": "julia",
   "version": "1.7.1"
  },
  "widgets": {
   "application/vnd.jupyter.widget-state+json": {
    "state": {},
    "version_major": 2,
    "version_minor": 0
   }
  }
 },
 "nbformat": 4,
 "nbformat_minor": 4
}
