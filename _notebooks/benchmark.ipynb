{
 "cells": [
  {
   "cell_type": "markdown",
   "metadata": {},
   "source": [
    "# Juliaで@benchmarkの結果を文字列として得る\n",
    "> BenchmarkToolsの@benchmark の結果が文字列として欲しいです。\n",
    "\n",
    "- toc: true \n",
    "- badges: true\n",
    "- comments: true\n",
    "- categories: [Tips]\n",
    "- image: images/chart-preview.png"
   ]
  },
  {
   "cell_type": "code",
   "execution_count": 3,
   "metadata": {},
   "outputs": [],
   "source": [
    "using BenchmarkTools"
   ]
  },
  {
   "cell_type": "code",
   "execution_count": 4,
   "metadata": {},
   "outputs": [
    {
     "name": "stdout",
     "output_type": "stream",
     "text": [
      "Trial(0.035 ns)\n"
     ]
    }
   ],
   "source": [
    "result = @benchmark 1 + 1\n",
    "println(result)"
   ]
  },
  {
   "cell_type": "raw",
   "metadata": {},
   "source": [
    "(´・ω・｀)"
   ]
  },
  {
   "cell_type": "code",
   "execution_count": 5,
   "metadata": {},
   "outputs": [
    {
     "name": "stdout",
     "output_type": "stream",
     "text": [
      "BenchmarkTools.Trial: \n",
      "  memory estimate:  0 bytes\n",
      "  allocs estimate:  0\n",
      "  --------------\n",
      "  minimum time:     0.035 ns (0.00% GC)\n",
      "  median time:      0.038 ns (0.00% GC)\n",
      "  mean time:        0.040 ns (0.00% GC)\n",
      "  maximum time:     15.705 ns (0.00% GC)\n",
      "  --------------\n",
      "  samples:          10000\n",
      "  evals/sample:     1000\n"
     ]
    }
   ],
   "source": [
    "function get_str(result::BenchmarkTools.Trial)\n",
    "    io = IOBuffer()\n",
    "    show(io, \"text/plain\", result)\n",
    "    return String(take!(io))\n",
    "end\n",
    "\n",
    "\n",
    "result = @benchmark 1 + 1\n",
    "println(get_str(result))"
   ]
  },
  {
   "cell_type": "raw",
   "metadata": {},
   "source": [
    "どう考えてもスマートじゃないけど動いてるのでヨシ"
   ]
  }
 ],
 "metadata": {
  "kernelspec": {
   "display_name": "Julia 1.4.0",
   "language": "julia",
   "name": "julia-1.4"
  },
  "language_info": {
   "file_extension": ".jl",
   "mimetype": "application/julia",
   "name": "julia",
   "version": "1.4.0"
  },
  "widgets": {
   "application/vnd.jupyter.widget-state+json": {
    "state": {},
    "version_major": 2,
    "version_minor": 0
   }
  }
 },
 "nbformat": 4,
 "nbformat_minor": 4
}
